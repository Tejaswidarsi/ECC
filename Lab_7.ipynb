{
  "nbformat": 4,
  "nbformat_minor": 0,
  "metadata": {
    "colab": {
      "provenance": [],
      "authorship_tag": "ABX9TyPmuigR5rG1gjqxVRa2Tq9R",
      "include_colab_link": true
    },
    "kernelspec": {
      "name": "python3",
      "display_name": "Python 3"
    },
    "language_info": {
      "name": "python"
    }
  },
  "cells": [
    {
      "cell_type": "markdown",
      "metadata": {
        "id": "view-in-github",
        "colab_type": "text"
      },
      "source": [
        "<a href=\"https://colab.research.google.com/github/Tejaswidarsi/ECC/blob/main/Lab_7.ipynb\" target=\"_parent\"><img src=\"https://colab.research.google.com/assets/colab-badge.svg\" alt=\"Open In Colab\"/></a>"
      ]
    },
    {
      "cell_type": "markdown",
      "source": [
        "1)Write a program to perform a key exchange using ECC."
      ],
      "metadata": {
        "id": "1or6cuGdffRb"
      }
    },
    {
      "cell_type": "code",
      "execution_count": 4,
      "metadata": {
        "colab": {
          "base_uri": "https://localhost:8080/"
        },
        "id": "sbmB58HIca0b",
        "outputId": "e44146bd-00c5-4fd2-c1dc-3647d8cc851a"
      },
      "outputs": [
        {
          "output_type": "stream",
          "name": "stdout",
          "text": [
            "Shared Secret: 8cf7b5ac948c7a26fc15a0c55a5aa80c91fbe1d1c6e52951358c348ef6b69181\n"
          ]
        }
      ],
      "source": [
        "from cryptography.hazmat.primitives.asymmetric import ec\n",
        "\n",
        "# Use the same curve for both parties (e.g., SECP256R1)\n",
        "curve = ec.SECP256R1()\n",
        "\n",
        "# Generate private keys for two parties\n",
        "private_key_A = ec.generate_private_key(curve)\n",
        "private_key_B = ec.generate_private_key(curve)\n",
        "\n",
        "# Generate public keys\n",
        "public_key_A = private_key_A.public_key()\n",
        "public_key_B = private_key_B.public_key()\n",
        "\n",
        "# Exchange keys and derive shared secret\n",
        "shared_secret_A = private_key_A.exchange(ec.ECDH(), public_key_B)\n",
        "shared_secret_B = private_key_B.exchange(ec.ECDH(), public_key_A)\n",
        "\n",
        "# Ensure both shared secrets are the same\n",
        "assert shared_secret_A == shared_secret_B, \"Key exchange failed!\"\n",
        "\n",
        "print(\"Shared Secret:\", shared_secret_A.hex())\n"
      ]
    },
    {
      "cell_type": "markdown",
      "source": [
        "2) Write a program to encrypt and decrypt the message “Hell0 SRM AP” using Elliptic Curve\n",
        "Cryptography and AES."
      ],
      "metadata": {
        "id": "ihMvpdAnfkGL"
      }
    },
    {
      "cell_type": "code",
      "source": [
        "from cryptography.hazmat.primitives.asymmetric import ec\n",
        "from cryptography.hazmat.primitives.kdf.hkdf import HKDF\n",
        "from cryptography.hazmat.primitives import hashes\n",
        "from cryptography.hazmat.primitives.ciphers import Cipher, algorithms, modes\n",
        "import os\n",
        "\n",
        "# Message to encrypt\n",
        "message = b\"Hell0 SRM AP\"\n",
        "\n",
        "# Generate ECC key pair\n",
        "private_key = ec.generate_private_key(ec.SECP256R1())\n",
        "public_key = private_key.public_key()\n",
        "\n",
        "# Encrypt function\n",
        "def encrypt_message(public_key, message):\n",
        "    ephemeral_key = ec.generate_private_key(ec.SECP256R1())\n",
        "    shared_secret = ephemeral_key.exchange(ec.ECDH(), public_key)\n",
        "\n",
        "    # Derive AES key using HKDF\n",
        "    aes_key = HKDF(\n",
        "        algorithm=hashes.SHA256(),\n",
        "        length=32,\n",
        "        salt=None,\n",
        "        info=b\"encryption\",\n",
        "    ).derive(shared_secret)\n",
        "\n",
        "    iv = os.urandom(16)\n",
        "    cipher = Cipher(algorithms.AES(aes_key), modes.CBC(iv))\n",
        "    encryptor = cipher.encryptor()\n",
        "\n",
        "    padded_message = message + b' ' * (16 - len(message) % 16)  # Padding\n",
        "    ciphertext = encryptor.update(padded_message) + encryptor.finalize()\n",
        "\n",
        "    return ephemeral_key.public_key(), iv, ciphertext\n",
        "\n",
        "# Decrypt function\n",
        "def decrypt_message(private_key, ephemeral_public_key, iv, ciphertext):\n",
        "    shared_secret = private_key.exchange(ec.ECDH(), ephemeral_public_key)\n",
        "\n",
        "    aes_key = HKDF(\n",
        "        algorithm=hashes.SHA256(),\n",
        "        length=32,\n",
        "        salt=None,\n",
        "        info=b\"encryption\",\n",
        "    ).derive(shared_secret)\n",
        "\n",
        "    cipher = Cipher(algorithms.AES(aes_key), modes.CBC(iv))\n",
        "    decryptor = cipher.decryptor()\n",
        "\n",
        "    decrypted_padded = decryptor.update(ciphertext) + decryptor.finalize()\n",
        "    return decrypted_padded.strip()\n",
        "\n",
        "# Encrypt message\n",
        "ephemeral_pub, iv, ciphertext = encrypt_message(public_key, message)\n",
        "print(\"Ciphertext:\", ciphertext.hex())\n",
        "\n",
        "# Decrypt message\n",
        "decrypted_message = decrypt_message(private_key, ephemeral_pub, iv, ciphertext)\n",
        "print(\"Decrypted Message:\", decrypted_message.decode())\n"
      ],
      "metadata": {
        "colab": {
          "base_uri": "https://localhost:8080/"
        },
        "id": "bhpLzapMeC-o",
        "outputId": "3216911c-1d6a-4e57-fa0d-cec41270dc95"
      },
      "execution_count": 5,
      "outputs": [
        {
          "output_type": "stream",
          "name": "stdout",
          "text": [
            "Ciphertext: e5524228a3ffbe4e134baed3c222858b\n",
            "Decrypted Message: Hell0 SRM AP\n"
          ]
        }
      ]
    }
  ]
}